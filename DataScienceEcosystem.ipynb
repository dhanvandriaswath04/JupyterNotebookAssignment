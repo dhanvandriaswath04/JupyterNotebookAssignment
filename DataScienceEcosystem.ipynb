{
 "cells": [
  {
   "cell_type": "markdown",
   "id": "0d3c7b9e-fa8d-4f87-8191-28f9ab1131f8",
   "metadata": {},
   "source": [
    "<h1>Data Science Tools and Ecosystem</h1>"
   ]
  },
  {
   "cell_type": "markdown",
   "id": "7dde6796-c472-4eba-8b40-145c4a57d29c",
   "metadata": {},
   "source": [
    "# Introduction\n",
    "In this notebook, Data Science Tools and Ecosystem are summerized.\n"
   ]
  },
  {
   "cell_type": "markdown",
   "id": "c86949af-26d1-4c78-9254-9c8810afe9eb",
   "metadata": {},
   "source": [
    "**Objectives:**\n",
    "- List popular languages for Data Science\n",
    "- Identify commonly used libraries in Data Science\n",
    "- Perform basic arithmetic expressions in Python"
   ]
  },
  {
   "cell_type": "markdown",
   "id": "3d1f37f0-ea26-48df-8b81-bbc61ffbb42b",
   "metadata": {},
   "source": [
    "Some of the popular languages that Data Scientist use are \n",
    "\n",
    "1. Python\n",
    "2. R\n",
    "3. SQL\n",
    "4. Julia\n",
    "5. Scala"
   ]
  },
  {
   "cell_type": "markdown",
   "id": "590296ed-0632-4643-a0cc-9d80ad891d68",
   "metadata": {},
   "source": [
    "Some of the commonly used libraries used by Data Scientists incude:\n",
    "\n",
    "1. Pandas\n",
    "2. NumPy\n",
    "3. Scikit-learn\n",
    "4. TensorFlow\n",
    "5. Matplotlib"
   ]
  },
  {
   "cell_type": "markdown",
   "id": "40c68898-aae9-42ad-aba9-245b4c871c9f",
   "metadata": {},
   "source": [
    "| Data Science Tools |\n",
    "|--------------------|\n",
    "| Jupyter Notebook |\n",
    "| RStudio |\n",
    "| Apache Zeppelin | "
   ]
  },
  {
   "cell_type": "markdown",
   "id": "83aa1122-febf-4040-8d7b-03fea2acee95",
   "metadata": {},
   "source": [
    "<h3>Below are a few examples of evaluating arithmetic expressions in Python</h3>"
   ]
  },
  {
   "cell_type": "code",
   "execution_count": 1,
   "id": "5845c13b-b8d9-4a97-a7c1-07221857b809",
   "metadata": {},
   "outputs": [
    {
     "data": {
      "text/plain": [
       "17"
      ]
     },
     "execution_count": 1,
     "metadata": {},
     "output_type": "execute_result"
    }
   ],
   "source": [
    "# This is a simple arithmetic expression to multiply then add integers\n",
    "(3*4)+5"
   ]
  },
  {
   "cell_type": "code",
   "execution_count": 2,
   "id": "8aecac56-874a-4987-bd87-a20caae9b85a",
   "metadata": {},
   "outputs": [
    {
     "data": {
      "text/plain": [
       "3.3333333333333335"
      ]
     },
     "execution_count": 2,
     "metadata": {},
     "output_type": "execute_result"
    }
   ],
   "source": [
    "# This will convert 200 minutes into hours\n",
    "(200/60)"
   ]
  },
  {
   "cell_type": "markdown",
   "id": "f25a5c41-8406-4845-ad37-66f6de543547",
   "metadata": {},
   "source": [
    "<h2>Author</h2>\n",
    "Dhanvandri Aswath S"
   ]
  }
 ],
 "metadata": {
  "kernelspec": {
   "display_name": "Python 3 (ipykernel)",
   "language": "python",
   "name": "python3"
  },
  "language_info": {
   "codemirror_mode": {
    "name": "ipython",
    "version": 3
   },
   "file_extension": ".py",
   "mimetype": "text/x-python",
   "name": "python",
   "nbconvert_exporter": "python",
   "pygments_lexer": "ipython3",
   "version": "3.12.8"
  }
 },
 "nbformat": 4,
 "nbformat_minor": 5
}
